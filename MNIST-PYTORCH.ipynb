{
  "nbformat": 4,
  "nbformat_minor": 0,
  "metadata": {
    "colab": {
      "provenance": [],
      "gpuType": "T4",
      "mount_file_id": "1N42Szxk0ZyNBYkdU1ws1PahayaOaKuyG",
      "authorship_tag": "ABX9TyPt374TSRmNijJXhWqKP7jQ",
      "include_colab_link": true
    },
    "kernelspec": {
      "name": "python3",
      "display_name": "Python 3"
    },
    "language_info": {
      "name": "python"
    },
    "accelerator": "GPU"
  },
  "cells": [
    {
      "cell_type": "markdown",
      "metadata": {
        "id": "view-in-github",
        "colab_type": "text"
      },
      "source": [
        "<a href=\"https://colab.research.google.com/github/bharathgaddam1712/practise/blob/main/MNIST-PYTORCH.ipynb\" target=\"_parent\"><img src=\"https://colab.research.google.com/assets/colab-badge.svg\" alt=\"Open In Colab\"/></a>"
      ]
    },
    {
      "cell_type": "code",
      "execution_count": 16,
      "metadata": {
        "id": "f7Q9udPVhwlg"
      },
      "outputs": [],
      "source": [
        "import torch\n",
        "import PIL\n",
        "from PIL import Image\n",
        "from torch import nn,save,load\n",
        "from torch.optim import Adam\n",
        "from torch.utils.data import DataLoader\n",
        "from torchvision.datasets import MNIST\n",
        "from torchvision.transforms import ToTensor\n",
        "\n"
      ]
    },
    {
      "cell_type": "code",
      "source": [
        "train = MNIST(root='data', train=True, download=True, transform=ToTensor())\n",
        "dataset = DataLoader(train, batch_size=32, shuffle=True)\n",
        "test = MNIST(root='data', train=False, download=True, transform=ToTensor())"
      ],
      "metadata": {
        "id": "fq28bwHxig1F"
      },
      "execution_count": 17,
      "outputs": []
    },
    {
      "cell_type": "code",
      "source": [
        "class ImageClassifier(nn.Module):\n",
        "  def __init__(self):\n",
        "    super().__init__()\n",
        "    self.model = nn.Sequential(\n",
        "        nn.Conv2d(1,32,(3,3)),\n",
        "        nn.ReLU(),\n",
        "\n",
        "        nn.Conv2d(32,64,(3,3)),\n",
        "        nn.ReLU(),\n",
        "\n",
        "        nn.Conv2d(64,64,(3,3)),\n",
        "        nn.ReLU(),\n",
        "\n",
        "        nn.Flatten(),\n",
        "        nn.Linear(64*22*22,10)\n",
        "    )\n",
        "\n",
        "\n",
        "  def forward(self,x):\n",
        "    return self.model(x)\n",
        "\n",
        "\n",
        "## Instances of Neural network,loss,optimizer\n",
        "model = ImageClassifier().to('cuda')\n",
        "loss_fn = nn.CrossEntropyLoss()\n",
        "optimizer = Adam(model.parameters(),lr=0.001)\n",
        "\n",
        "## Training Flow\n",
        "if __name__ == \"__main__\":\n",
        "  with open(\"model_state.pt\",\"rb\") as f :\n",
        "    model.load_state_dict(load(f))\n",
        "\n",
        "  img = Image.open(\"img_3.jpg\")\n",
        "  img_tensor = ToTensor()(img).unsqueeze(0).to(\"cuda\")\n",
        "  print(torch.argmax(model(img_tensor)))\n",
        "\n",
        "\n",
        "\n",
        "#   for epoch in range(10):\n",
        "#     for batch in dataset:\n",
        "#       x,y = batch\n",
        "#       x,y = x.to('cuda'),y.to('cuda')\n",
        "#       yhat = model(x)\n",
        "#       loss = loss_fn(yhat,y)\n",
        "#       optimizer.zero_grad()\n",
        "\n",
        "#       loss.backward()\n",
        "#       optimizer.step()\n",
        "#     print(f\"Epoch : {epoch} loss is {loss.item()}\")\n",
        "\n",
        "\n",
        "# with open(\"model_state.pt\", \"wb\") as f:\n",
        "#   save(model.state_dict(), f)\n"
      ],
      "metadata": {
        "colab": {
          "base_uri": "https://localhost:8080/"
        },
        "id": "BAU3X4PpjOKQ",
        "outputId": "6000d3e0-8229-416d-bf27-6f024b7e5d14"
      },
      "execution_count": 19,
      "outputs": [
        {
          "output_type": "stream",
          "name": "stdout",
          "text": [
            "tensor(9, device='cuda:0')\n"
          ]
        },
        {
          "output_type": "stream",
          "name": "stderr",
          "text": [
            "<ipython-input-19-799c29fc85ba>:31: FutureWarning: You are using `torch.load` with `weights_only=False` (the current default value), which uses the default pickle module implicitly. It is possible to construct malicious pickle data which will execute arbitrary code during unpickling (See https://github.com/pytorch/pytorch/blob/main/SECURITY.md#untrusted-models for more details). In a future release, the default value for `weights_only` will be flipped to `True`. This limits the functions that could be executed during unpickling. Arbitrary objects will no longer be allowed to be loaded via this mode unless they are explicitly allowlisted by the user via `torch.serialization.add_safe_globals`. We recommend you start setting `weights_only=True` for any use case where you don't have full control of the loaded file. Please open an issue on GitHub for any issues related to this experimental feature.\n",
            "  model.load_state_dict(load(f))\n"
          ]
        }
      ]
    },
    {
      "cell_type": "code",
      "source": [],
      "metadata": {
        "id": "igH1Imx7lf-i"
      },
      "execution_count": 4,
      "outputs": []
    }
  ]
}